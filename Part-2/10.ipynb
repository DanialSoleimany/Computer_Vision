{
 "cells": [
  {
   "cell_type": "code",
   "execution_count": 1,
   "metadata": {},
   "outputs": [],
   "source": [
    "import cv2 as cv\n",
    "import numpy as np\n",
    "import random as rn\n",
    "import math"
   ]
  },
  {
   "cell_type": "code",
   "execution_count": 2,
   "metadata": {},
   "outputs": [],
   "source": [
    "img_path = \"dog.jpg\"\n",
    "img = cv.imread(img_path)\n",
    "img2 = img.copy()\n",
    "img3 = img.copy()\n"
   ]
  },
  {
   "cell_type": "code",
   "execution_count": 3,
   "metadata": {},
   "outputs": [],
   "source": [
    "width = img.shape[1]\n",
    "height = img.shape[0]"
   ]
  },
  {
   "cell_type": "code",
   "execution_count": 4,
   "metadata": {},
   "outputs": [],
   "source": [
    "noise_percentage = float(input(\"Enter a percent of noise to apply: \"))"
   ]
  },
  {
   "cell_type": "code",
   "execution_count": 5,
   "metadata": {},
   "outputs": [],
   "source": [
    "def apply_noise(img2, width, height, noise_percentage):\n",
    "    for y in range(height):\n",
    "        for x in range(width):\n",
    "            rand_value = rn.random()\n",
    "\n",
    "            lower_bound = noise_percentage / 2 / 100\n",
    "            higher_bound = 1 - lower_bound\n",
    "\n",
    "            if rand_value < lower_bound:\n",
    "                img2[y][x] = [0, 0, 0]\n",
    "\n",
    "            elif rand_value > higher_bound:\n",
    "                img2[y][x] = [255, 255, 255]\n",
    "\n",
    "            else:\n",
    "                pass\n",
    "            \n",
    "    return img2"
   ]
  },
  {
   "cell_type": "code",
   "execution_count": 6,
   "metadata": {},
   "outputs": [],
   "source": [
    "noise_image = apply_noise(img2, width, height, noise_percentage)"
   ]
  },
  {
   "cell_type": "code",
   "execution_count": 7,
   "metadata": {},
   "outputs": [],
   "source": [
    "def check_zero_pixel(pixel):\n",
    "    if (pixel[0] == 0 and pixel[1] == 0 and pixel[2] == 0) or (pixel[0] == 255 and pixel[1] == 255 and pixel[2] == 255):\n",
    "        return True\n",
    "    else:\n",
    "        return False"
   ]
  },
  {
   "cell_type": "code",
   "execution_count": 8,
   "metadata": {},
   "outputs": [],
   "source": [
    "def get_neighbours(data, y, x, channel):\n",
    "    neighbours = []\n",
    "\n",
    "    if channel == 2:\n",
    "        neighbours.append(data[y-1][x-1][2])\n",
    "        neighbours.append(data[y-1][x][2])\n",
    "        neighbours.append(data[y-1][x+1][2])\n",
    "        neighbours.append(data[y][x-1][2])\n",
    "        neighbours.append(data[y][x+1][2])\n",
    "        neighbours.append(data[y+1][x-1][2])\n",
    "        neighbours.append(data[y+1][x][2])\n",
    "        neighbours.append(data[y+1][x+1][2])\n",
    "\n",
    "    elif channel == 1:\n",
    "        neighbours.append(data[y-1][x-1][1])\n",
    "        neighbours.append(data[y-1][x][1])\n",
    "        neighbours.append(data[y-1][x+1][1])\n",
    "        neighbours.append(data[y][x-1][1])\n",
    "        neighbours.append(data[y][x+1][1])\n",
    "        neighbours.append(data[y+1][x-1][1])\n",
    "        neighbours.append(data[y+1][x][1])\n",
    "        neighbours.append(data[y+1][x+1][1])\n",
    "\n",
    "    elif channel == 0:\n",
    "        neighbours.append(data[y-1][x-1][0])\n",
    "        neighbours.append(data[y-1][x][0])\n",
    "        neighbours.append(data[y-1][x+1][0])\n",
    "        neighbours.append(data[y][x-1][0])\n",
    "        neighbours.append(data[y][x+1][0])\n",
    "        neighbours.append(data[y+1][x-1][0])\n",
    "        neighbours.append(data[y+1][x][0])\n",
    "        neighbours.append(data[y+1][x+1][0])\n",
    "\n",
    "    return neighbours"
   ]
  },
  {
   "cell_type": "code",
   "execution_count": 9,
   "metadata": {},
   "outputs": [],
   "source": [
    "def find_true_pixels(vector):\n",
    "    true_pixels = [val for val in vector if val != 0 and val != 255]\n",
    "    return true_pixels"
   ]
  },
  {
   "cell_type": "code",
   "execution_count": 10,
   "metadata": {},
   "outputs": [],
   "source": [
    "for y in range(1, height - 1):\n",
    "    for x in range(1, width - 1):\n",
    "        vector = noise_image[y][x]\n",
    "\n",
    "        if check_zero_pixel(vector):\n",
    "            red_neighbours = get_neighbours(noise_image, y, x, 2)  # red\n",
    "            green_neighbours = get_neighbours(noise_image, y, x, 1)  # green\n",
    "            blue_neighbours = get_neighbours(noise_image, y, x, 0)  # blue\n",
    "\n",
    "            true_pixels_red = find_true_pixels(red_neighbours)\n",
    "            true_pixels_green = find_true_pixels(green_neighbours)\n",
    "            true_pixels_blue = find_true_pixels(blue_neighbours)\n",
    "\n",
    "            if len(true_pixels_red) == 0 or len(true_pixels_green) == 0 or len(true_pixels_blue) == 0:\n",
    "                new_value_r = 0 \n",
    "                new_value_g = 0 \n",
    "                new_value_b = 0\n",
    "              \n",
    "            elif len(true_pixels_red) == 1 or len(true_pixels_green) == 1 or len(true_pixels_blue) == 1:\n",
    "                new_value_r = true_pixels_red[0] \n",
    "                new_value_g = true_pixels_green[0] \n",
    "                new_value_b = true_pixels_blue[0]\n",
    "              \n",
    "            else:\n",
    "                new_value_r = math.floor(np.median(true_pixels_red))\n",
    "                new_value_g = math.floor(np.median(true_pixels_green))\n",
    "                new_value_b = math.floor(np.median(true_pixels_blue))\n",
    "\n",
    "            img3[y][x] = [new_value_b, new_value_g, new_value_r]"
   ]
  },
  {
   "cell_type": "code",
   "execution_count": 11,
   "metadata": {},
   "outputs": [],
   "source": [
    "cv.imshow(\"main image\", img)\n",
    "cv.imshow(\"apply noise\", noise_image)\n",
    "cv.imshow(\"reduce noise\", img3)\n",
    "cv.waitKey(0)\n",
    "cv.destroyAllWindows()"
   ]
  }
 ],
 "metadata": {
  "kernelspec": {
   "display_name": "Python 3",
   "language": "python",
   "name": "python3"
  },
  "language_info": {
   "codemirror_mode": {
    "name": "ipython",
    "version": 3
   },
   "file_extension": ".py",
   "mimetype": "text/x-python",
   "name": "python",
   "nbconvert_exporter": "python",
   "pygments_lexer": "ipython3",
   "version": "3.12.5"
  }
 },
 "nbformat": 4,
 "nbformat_minor": 2
}
